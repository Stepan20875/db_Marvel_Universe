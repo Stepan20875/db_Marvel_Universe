{
 "cells": [
  {
   "cell_type": "code",
   "execution_count": 1,
   "id": "5f03016f-5c89-40a4-a51a-4699eef10d20",
   "metadata": {},
   "outputs": [
    {
     "name": "stdout",
     "output_type": "stream",
     "text": [
      "Collecting psycopg2-binary"
     ]
    },
    {
     "name": "stderr",
     "output_type": "stream",
     "text": [
      "\n",
      "[notice] A new release of pip is available: 23.2.1 -> 25.1\n",
      "[notice] To update, run: python.exe -m pip install --upgrade pip\n"
     ]
    },
    {
     "name": "stdout",
     "output_type": "stream",
     "text": [
      "\n",
      "  Obtaining dependency information for psycopg2-binary from https://files.pythonhosted.org/packages/92/29/06261ea000e2dc1e22907dbbc483a1093665509ea586b29b8986a0e56733/psycopg2_binary-2.9.10-cp312-cp312-win_amd64.whl.metadata\n",
      "  Downloading psycopg2_binary-2.9.10-cp312-cp312-win_amd64.whl.metadata (5.0 kB)\n",
      "Downloading psycopg2_binary-2.9.10-cp312-cp312-win_amd64.whl (1.2 MB)\n",
      "   ---------------------------------------- 0.0/1.2 MB ? eta -:--:--\n",
      "   --- ------------------------------------ 0.1/1.2 MB 3.3 MB/s eta 0:00:01\n",
      "   -------- ------------------------------- 0.3/1.2 MB 3.2 MB/s eta 0:00:01\n",
      "   ----------------- ---------------------- 0.5/1.2 MB 4.1 MB/s eta 0:00:01\n",
      "   ----------------------------- ---------- 0.8/1.2 MB 4.9 MB/s eta 0:00:01\n",
      "   ---------------------------------------  1.2/1.2 MB 5.6 MB/s eta 0:00:01\n",
      "   ---------------------------------------  1.2/1.2 MB 5.6 MB/s eta 0:00:01\n",
      "   ---------------------------------------- 1.2/1.2 MB 3.9 MB/s eta 0:00:00\n",
      "Installing collected packages: psycopg2-binary\n",
      "Successfully installed psycopg2-binary-2.9.10\n"
     ]
    }
   ],
   "source": [
    "!pip install psycopg2-binary"
   ]
  },
  {
   "cell_type": "code",
   "execution_count": 4,
   "id": "8dec3a07-7519-4d2c-a327-1a5bf8d95262",
   "metadata": {},
   "outputs": [],
   "source": [
    "import psycopg2\n",
    "import pandas as pd\n",
    "\n",
    "# Параметры подключения\n",
    "dbname = \"Project\"\n",
    "user = \"postgres\"  # Или ваше имя пользователя PostgreSQL\n",
    "host = \"::1\"\n",
    "port = \"5432\"\n",
    "\n",
    "conn = psycopg2.connect(\n",
    "        dbname=dbname,\n",
    "        user=user,\n",
    "        host=host,\n",
    "        port=port\n",
    "    )"
   ]
  },
  {
   "cell_type": "code",
   "execution_count": 5,
   "id": "261e843d-89ce-49aa-868f-136b65563633",
   "metadata": {},
   "outputs": [
    {
     "name": "stdout",
     "output_type": "stream",
     "text": [
      "   id                                 name               align         eye  \\\n",
      "0   1            Spider-Man (Peter Parker)     Good Characters  Hazel Eyes   \n",
      "1   2      Captain America (Steven Rogers)     Good Characters   Blue Eyes   \n",
      "2   3  Wolverine (James \\\"Logan\\\" Howlett)  Neutral Characters   Blue Eyes   \n",
      "3   4    Iron Man (Anthony \\\"Tony\\\" Stark)     Good Characters   Blue Eyes   \n",
      "4   5                  Thor (Thor Odinson)     Good Characters   Blue Eyes   \n",
      "\n",
      "         hair           gender  appearances  year universe  \n",
      "0  Brown Hair  Male Characters         4043  1962   marvel  \n",
      "1  White Hair  Male Characters         3360  1941   marvel  \n",
      "2  Black Hair  Male Characters         3061  1974   marvel  \n",
      "3  Black Hair  Male Characters         2961  1963   marvel  \n",
      "4  Blond Hair  Male Characters         2258  1950   marvel  \n"
     ]
    },
    {
     "name": "stderr",
     "output_type": "stream",
     "text": [
      "C:\\Users\\blade\\AppData\\Local\\Temp\\ipykernel_419712\\410719690.py:2: UserWarning: pandas only supports SQLAlchemy connectable (engine/connection) or database string URI or sqlite3 DBAPI2 connection. Other DBAPI2 objects are not tested. Please consider using SQLAlchemy.\n",
      "  df = pd.read_sql_query(sql_query, conn)\n"
     ]
    }
   ],
   "source": [
    "sql_query = \"SELECT * FROM superheroes\"\n",
    "df = pd.read_sql_query(sql_query, conn)\n",
    "\n",
    "print(df.head())  # Вывод первых 5 строк DataFrame"
   ]
  },
  {
   "cell_type": "code",
   "execution_count": 6,
   "id": "272380da-3851-43cb-bf28-651fd6e620b6",
   "metadata": {},
   "outputs": [
    {
     "name": "stdout",
     "output_type": "stream",
     "text": [
      "Результат SQL-запроса:\n",
      "   id                        name            align        eye     hair  \\\n",
      "0   6  Benjamin Grimm (Earth-616)  Good Characters  Blue Eyes  No Hair   \n",
      "1  30          Vision (Earth-616)  Good Characters  Gold Eyes  No Hair   \n",
      "\n",
      "            gender  appearances  year universe  \n",
      "0  Male Characters         2255  1961   marvel  \n",
      "1  Male Characters         1007  1968   marvel  \n"
     ]
    },
    {
     "name": "stderr",
     "output_type": "stream",
     "text": [
      "C:\\Users\\blade\\AppData\\Local\\Temp\\ipykernel_419712\\2563130293.py:7: UserWarning: pandas only supports SQLAlchemy connectable (engine/connection) or database string URI or sqlite3 DBAPI2 connection. Other DBAPI2 objects are not tested. Please consider using SQLAlchemy.\n",
      "  df_sql = pd.read_sql_query(sql_query, conn)\n"
     ]
    }
   ],
   "source": [
    "# Фильтрация в SQL\n",
    "sql_query = \"\"\"\n",
    "SELECT *\n",
    "FROM superheroes\n",
    "WHERE \"appearances\" > 1000 AND \"hair\" = 'No Hair'\n",
    "ORDER BY appearances DESC\n",
    "\"\"\"\n",
    "df_sql = pd.read_sql_query(sql_query, conn)\n",
    "print(\"Результат SQL-запроса:\")\n",
    "print(df_sql)"
   ]
  },
  {
   "cell_type": "code",
   "execution_count": 7,
   "id": "141f3c12-170b-4fff-869b-845b05bac4a0",
   "metadata": {},
   "outputs": [
    {
     "name": "stdout",
     "output_type": "stream",
     "text": [
      "\n",
      "Результат фильтрации pandas:\n",
      "    id                        name            align        eye     hair  \\\n",
      "5    6  Benjamin Grimm (Earth-616)  Good Characters  Blue Eyes  No Hair   \n",
      "29  30          Vision (Earth-616)  Good Characters  Gold Eyes  No Hair   \n",
      "\n",
      "             gender  appearances  year universe  \n",
      "5   Male Characters         2255  1961   marvel  \n",
      "29  Male Characters         1007  1968   marvel  \n"
     ]
    }
   ],
   "source": [
    "# Фильтрация в pandas\n",
    "df_pandas = df[(df['appearances'] > 1000) & (df['hair'] == 'No Hair')].sort_values(by='appearances', ascending=False)\n",
    "print(\"\\nРезультат фильтрации pandas:\")\n",
    "print(df_pandas)"
   ]
  },
  {
   "cell_type": "code",
   "execution_count": null,
   "id": "1233db74-7f2a-4d30-9c46-85a2d5cbc9f4",
   "metadata": {},
   "outputs": [],
   "source": []
  }
 ],
 "metadata": {
  "kernelspec": {
   "display_name": "Python 3 (ipykernel)",
   "language": "python",
   "name": "python3"
  },
  "language_info": {
   "codemirror_mode": {
    "name": "ipython",
    "version": 3
   },
   "file_extension": ".py",
   "mimetype": "text/x-python",
   "name": "python",
   "nbconvert_exporter": "python",
   "pygments_lexer": "ipython3",
   "version": "3.12.5"
  }
 },
 "nbformat": 4,
 "nbformat_minor": 5
}
